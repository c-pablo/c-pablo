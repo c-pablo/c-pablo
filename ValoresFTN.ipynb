{
  "nbformat": 4,
  "nbformat_minor": 0,
  "metadata": {
    "colab": {
      "provenance": [],
      "authorship_tag": "ABX9TyNXsXySnQ1UBrzIm92TRbtc",
      "include_colab_link": true
    },
    "kernelspec": {
      "name": "python3",
      "display_name": "Python 3"
    },
    "language_info": {
      "name": "python"
    }
  },
  "cells": [
    {
      "cell_type": "markdown",
      "metadata": {
        "id": "view-in-github",
        "colab_type": "text"
      },
      "source": [
        "<a href=\"https://colab.research.google.com/github/c-pablo/c-pablo/blob/main/ValoresFTN.ipynb\" target=\"_parent\"><img src=\"https://colab.research.google.com/assets/colab-badge.svg\" alt=\"Open In Colab\"/></a>"
      ]
    },
    {
      "cell_type": "code",
      "execution_count": null,
      "metadata": {
        "id": "ZGgGCzh3GUIP"
      },
      "outputs": [],
      "source": [
        "pip install scrapy"
      ]
    },
    {
      "cell_type": "code",
      "source": [
        "from scrapy import Selector\n",
        "import requests"
      ],
      "metadata": {
        "id": "hH_QnpVSGZ8f"
      },
      "execution_count": 2,
      "outputs": []
    },
    {
      "cell_type": "code",
      "source": [
        "url ='https://finance.yahoo.com/quote/FTNT/'\n",
        "html = requests.get( url ).content\n",
        "sel = Selector( text=html )\n",
        "titulares = sel.xpath('//fin-streamer')\n",
        "for i in range(len(titulares)):\n",
        "  if \"regularMarketPrice\" in titulares[i].attrib[\"data-field\"] and \"FTNT\" in titulares[i].attrib[\"data-symbol\"]:\n",
        "    print(\"El precio de Fortinet es\",\":\",titulares[i].attrib[\"value\"],i)\n",
        "#titulares[0].extract()"
      ],
      "metadata": {
        "colab": {
          "base_uri": "https://localhost:8080/"
        },
        "id": "kW4PvoD2Geqm",
        "outputId": "3afaa69e-0da7-48fb-cda4-13dbdc68840a"
      },
      "execution_count": 6,
      "outputs": [
        {
          "output_type": "stream",
          "name": "stdout",
          "text": [
            "El precio de Fortinet es : 51.91 18\n"
          ]
        }
      ]
    },
    {
      "cell_type": "code",
      "source": [
        "titulares[1].attrib[\"class\"]"
      ],
      "metadata": {
        "colab": {
          "base_uri": "https://localhost:8080/",
          "height": 35
        },
        "id": "jdM_lVwFGuX1",
        "outputId": "8443dff5-c2d4-47d2-98ef-21c193e2cae0"
      },
      "execution_count": 59,
      "outputs": [
        {
          "output_type": "execute_result",
          "data": {
            "text/plain": [
              "'positive'"
            ],
            "application/vnd.google.colaboratory.intrinsic+json": {
              "type": "string"
            }
          },
          "metadata": {},
          "execution_count": 59
        }
      ]
    },
    {
      "cell_type": "code",
      "source": [
        "titulares2 = titulares[18].xpath('/span')\n",
        "titulares[18]\n",
        "#@data-field=\"regularMarketPrice\"] and [@data-symbol=\"FTNT\"]"
      ],
      "metadata": {
        "colab": {
          "base_uri": "https://localhost:8080/"
        },
        "id": "cWgwGLo_4vbm",
        "outputId": "b9bc3cf7-42f5-45f3-8b95-b11dfa3e08d2"
      },
      "execution_count": 26,
      "outputs": [
        {
          "output_type": "execute_result",
          "data": {
            "text/plain": [
              "<Selector query='//fin-streamer' data='<fin-streamer class=\"Fw(b) Fz(36px) M...'>"
            ]
          },
          "metadata": {},
          "execution_count": 26
        }
      ]
    }
  ]
}